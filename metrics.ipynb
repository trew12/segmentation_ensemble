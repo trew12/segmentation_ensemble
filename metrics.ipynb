{
 "cells": [
  {
   "cell_type": "code",
   "execution_count": 1,
   "outputs": [],
   "source": [
    "import cv2\n",
    "import os\n",
    "import numpy as np\n",
    "\n",
    "from utils.metrics import compute_confusion_matrix"
   ],
   "metadata": {
    "collapsed": false,
    "ExecuteTime": {
     "end_time": "2024-05-06T07:42:50.612312200Z",
     "start_time": "2024-05-06T07:42:50.247658300Z"
    }
   },
   "id": "44d9cf84f6535da8"
  },
  {
   "cell_type": "code",
   "execution_count": 2,
   "outputs": [],
   "source": [
    "threshold = 0.5\n",
    "mask_shape = (640, 640)\n",
    "models = ['yolov8', 'segformer', 'mask2former']\n",
    "pred_mask_folder = 'C:/Users/Anton Volodin/PycharmProjects/segmentation_ensemble/pred/'\n",
    "gt_mask_folder = 'E:/datasets/task/dataset/gt_sem_seg/'"
   ],
   "metadata": {
    "collapsed": false,
    "ExecuteTime": {
     "end_time": "2024-05-06T07:42:50.629313100Z",
     "start_time": "2024-05-06T07:42:50.613310600Z"
    }
   },
   "id": "a51510cd97f5d10f"
  },
  {
   "cell_type": "code",
   "execution_count": 3,
   "outputs": [],
   "source": [
    "gt_mask_paths = [gt_mask_folder + filename for filename in os.listdir(gt_mask_folder)]\n",
    "model_metrics = {model: {'iou': 0, 'precision': 0, 'recall': 0} for model in models}\n",
    "pred_mask_paths = {}"
   ],
   "metadata": {
    "collapsed": false,
    "ExecuteTime": {
     "end_time": "2024-05-06T07:42:50.672763300Z",
     "start_time": "2024-05-06T07:42:50.634321300Z"
    }
   },
   "id": "68a6862326b64ab1"
  },
  {
   "cell_type": "code",
   "execution_count": 4,
   "outputs": [
    {
     "name": "stdout",
     "output_type": "stream",
     "text": [
      "Results for model: yolov8\n",
      "IoU is: 0.761480\n",
      "Precision is: 0.938222\n",
      "Recall is: 0.801676\n",
      "Results for model: segformer\n",
      "IoU is: 0.718954\n",
      "Precision is: 0.727514\n",
      "Recall is: 0.983898\n",
      "Results for model: mask2former\n",
      "IoU is: 0.652780\n",
      "Precision is: 0.755061\n",
      "Recall is: 0.828148\n"
     ]
    }
   ],
   "source": [
    "for model in models:\n",
    "    FP, FN, TP, TN = 0, 0, 0, 0\n",
    "    pred_mask_paths[model] = [f'{pred_mask_folder}{model}/{filename}' for filename in os.listdir(pred_mask_folder + model)]\n",
    "    for gt_mask_path, pred_mask_path in zip(gt_mask_paths, pred_mask_paths[model]):\n",
    "        pred_mask = np.load(pred_mask_path)\n",
    "        pred_mask = np.array(pred_mask > threshold, dtype=np.uint8)\n",
    "        gt_mask = cv2.imread(gt_mask_path, cv2.IMREAD_GRAYSCALE)\n",
    "        gt_mask = np.array(gt_mask / 255, dtype=np.uint8)\n",
    "        res = compute_confusion_matrix(gt_mask, pred_mask)\n",
    "        FP += res[0]\n",
    "        FN += res[1]\n",
    "        TP += res[2]\n",
    "        TN += res[3]\n",
    "    print(f'Results for model: {model}')\n",
    "    print(f'IoU is: {TP / (TP + FP + FN):3f}')\n",
    "    print(f'Precision is: {TP / (TP + FP):3f}')\n",
    "    print(f'Recall is: {TP / (TP + FN):3f}')"
   ],
   "metadata": {
    "collapsed": false,
    "ExecuteTime": {
     "end_time": "2024-05-06T07:45:56.812141300Z",
     "start_time": "2024-05-06T07:42:50.669763900Z"
    }
   },
   "id": "4337db98f176bc60"
  },
  {
   "cell_type": "code",
   "execution_count": 7,
   "outputs": [
    {
     "name": "stdout",
     "output_type": "stream",
     "text": [
      "Combined model coefs:  [0.333, 0.333, 0.333]\n",
      "Combined model iou is: 0.820\n",
      "Combined model  precision is: 0.919\n",
      "Combined model  recall is: 0.884\n",
      "--------------------------------------------------\n",
      "Combined model coefs:  [0.5, 0.25, 0.25]\n",
      "Combined model iou is: 0.799\n",
      "Combined model  precision is: 0.950\n",
      "Combined model  recall is: 0.835\n",
      "--------------------------------------------------\n",
      "Combined model coefs:  [0.5, 0.3, 0.2]\n",
      "Combined model iou is: 0.804\n",
      "Combined model  precision is: 0.950\n",
      "Combined model  recall is: 0.839\n",
      "--------------------------------------------------\n"
     ]
    }
   ],
   "source": [
    "coefs = [[0.333, 0.333, 0.333],\n",
    "         [0.5, 0.25, 0.25],\n",
    "         [0.5, 0.3, 0.2]]\n",
    "for coef in coefs:\n",
    "    FP, FN, TP, TN = 0, 0, 0, 0\n",
    "    for gt_mask_path in gt_mask_paths:\n",
    "        filename = gt_mask_path.split('/')[-1].split('.')[0]\n",
    "        combined_mask = np.zeros(mask_shape, dtype=np.float32)\n",
    "        for i, model in enumerate(models):\n",
    "            pred_mask_path = f'{pred_mask_folder}{model}/{filename}.npy'\n",
    "            pred_mask = np.load(pred_mask_path)\n",
    "            combined_mask += pred_mask * coef[i]\n",
    "        combined_mask = np.array(combined_mask > threshold, dtype=np.uint8)\n",
    "        gt_mask = cv2.imread(gt_mask_path, cv2.IMREAD_GRAYSCALE)\n",
    "        gt_mask = np.array(gt_mask / 255, dtype=np.uint8)\n",
    "        res = compute_confusion_matrix(gt_mask, combined_mask)\n",
    "        FP += res[0]\n",
    "        FN += res[1]\n",
    "        TP += res[2]\n",
    "        TN += res[3]\n",
    "    print(f'Combined model coefs: ', coef)\n",
    "    print(f'Combined model iou is: {TP / (TP + FP + FN):.3f}')\n",
    "    print(f'Combined model  precision is: {TP / (TP + FP):.3f}')\n",
    "    print(f'Combined model  recall is: {TP / (TP + FN):.3f}')\n",
    "    print('-'* 50)"
   ],
   "metadata": {
    "collapsed": false,
    "ExecuteTime": {
     "end_time": "2024-05-06T08:01:16.733178900Z",
     "start_time": "2024-05-06T07:51:41.930822800Z"
    }
   },
   "id": "initial_id"
  }
 ],
 "metadata": {
  "kernelspec": {
   "display_name": "Python 3",
   "language": "python",
   "name": "python3"
  },
  "language_info": {
   "codemirror_mode": {
    "name": "ipython",
    "version": 2
   },
   "file_extension": ".py",
   "mimetype": "text/x-python",
   "name": "python",
   "nbconvert_exporter": "python",
   "pygments_lexer": "ipython2",
   "version": "2.7.6"
  }
 },
 "nbformat": 4,
 "nbformat_minor": 5
}
